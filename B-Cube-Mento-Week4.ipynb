{
 "cells": [
  {
   "cell_type": "markdown",
   "metadata": {},
   "source": [
    "# 비큐브 멘토멘티\n",
    "\n",
    "## Week4: 함수\n",
    "\n",
    "## 2020년 08월 27일 안상호"
   ]
  },
  {
   "cell_type": "markdown",
   "metadata": {},
   "source": [
    "## 1. 삼차 함수 계산\n",
    "\n",
    "다음과 같은 3차 함수식이 있다.\n",
    "\n",
    "$$f(x) = 5x^3 - 3x^2 - 7x + 6$$\n",
    "\n",
    "> ***Q***: 위의 식처럼 연산하는 함수 `f`를 작성하고, 그 함수를 활용하여 $x=-5$, $x=5$ 일때의 결과값의 차이에 대한 절댓값을 구하시오.\n",
    "\n",
    "\n",
    "### HINT\n",
    "1. `abs`는 절댓값을 반환하는 함수로 사용결과는 다음과 같다.\n",
    "    ```python\n",
    "    abs(-3 + 1)\n",
    "    ## 2\n",
    "    \n",
    "    abs(3 - 1)\n",
    "    ## 2\n",
    "    ```\n",
    "\n"
   ]
  },
  {
   "cell_type": "code",
   "execution_count": null,
   "metadata": {},
   "outputs": [],
   "source": []
  },
  {
   "cell_type": "markdown",
   "metadata": {},
   "source": [
    "## 2. 화씨 온도 변환 함수 \n",
    "\n",
    "온도를 표기하는 방법에는 화씨($^oF$)와 섭씨($^oC$)가 있다. 그런데 한국으로 이민갔다가 미국으로 돌아온  *James* 씨는 한국의 기상예보에 익숙해진 나머지 미국의 기상예보를 이해할 수가 없다. 그래서 이번에는 화씨를 섭씨로 만들어 주는 함수를 만들어보고자 한다. \n",
    "\n",
    "> ***Q***: 화씨 온도를 입력받아 섭씨 온도로 변환하는 함수 `convert_fah`을 작성하고, 그 함수를 사용하여 $50 ^oF$ 일때의 결과를 구하시오.\n",
    "\n",
    "### HINT\n",
    "\n",
    "1. 섭씨를 화씨로 변환하는 공식은 다음과 같다.\n",
    "    - $^oF = (^oC \\times 1.8) + 32$ \n",
    "2. 화씨를 섭씨로 변환하는 공식은 다음과 같다.\n",
    "    - $^oC = \\cfrac{^oF}{1.8} - 32$ "
   ]
  },
  {
   "cell_type": "code",
   "execution_count": null,
   "metadata": {},
   "outputs": [],
   "source": []
  },
  {
   "cell_type": "markdown",
   "metadata": {},
   "source": [
    "## 3. 구구단 계산기\n",
    "\n",
    "구구단은 곱하는 숫자만 달라질뿐 동일한 패턴을 가지고 있다. 간단한 구구단 계산을 하는 함수를 만들어보자.\n",
    "\n",
    "> ***Q***: 반복문을 사용하여 구구단을 연산하는 함수 `gugu`를 작성하고, 그 함수를 사용하여 **9**단의 결과를 출력하시오. \n",
    "\n",
    "\n",
    "### 출력 결과 예시\n",
    "\n",
    "```python\n",
    "\n",
    "gugu(x=2) # gugu(2)와 같다 \n",
    "\n",
    "# 2  x  1 = 2\n",
    "# 2  x  2 = 4\n",
    "# 2  x  3 = 6\n",
    "# 2  x  4 = 8\n",
    "# 2  x  5 = 10\n",
    "# 2  x  6 = 12\n",
    "# 2  x  7 = 14\n",
    "# 2  x  8 = 16\n",
    "# 2  x  9 = 18\n",
    "```\n",
    "\n"
   ]
  },
  {
   "cell_type": "code",
   "execution_count": null,
   "metadata": {},
   "outputs": [],
   "source": []
  }
 ],
 "metadata": {
  "kernelspec": {
   "display_name": "Python 3",
   "language": "python",
   "name": "python3"
  },
  "language_info": {
   "codemirror_mode": {
    "name": "ipython",
    "version": 3
   },
   "file_extension": ".py",
   "mimetype": "text/x-python",
   "name": "python",
   "nbconvert_exporter": "python",
   "pygments_lexer": "ipython3",
   "version": "3.8.2"
  },
  "toc": {
   "base_numbering": 1,
   "nav_menu": {},
   "number_sections": false,
   "sideBar": true,
   "skip_h1_title": false,
   "title_cell": "Table of Contents",
   "title_sidebar": "Contents",
   "toc_cell": false,
   "toc_position": {},
   "toc_section_display": true,
   "toc_window_display": false
  },
  "varInspector": {
   "cols": {
    "lenName": 16,
    "lenType": 16,
    "lenVar": 40
   },
   "kernels_config": {
    "python": {
     "delete_cmd_postfix": "",
     "delete_cmd_prefix": "del ",
     "library": "var_list.py",
     "varRefreshCmd": "print(var_dic_list())"
    },
    "r": {
     "delete_cmd_postfix": ") ",
     "delete_cmd_prefix": "rm(",
     "library": "var_list.r",
     "varRefreshCmd": "cat(var_dic_list()) "
    }
   },
   "types_to_exclude": [
    "module",
    "function",
    "builtin_function_or_method",
    "instance",
    "_Feature"
   ],
   "window_display": false
  }
 },
 "nbformat": 4,
 "nbformat_minor": 4
}
