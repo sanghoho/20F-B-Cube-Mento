{
 "cells": [
  {
   "cell_type": "markdown",
   "metadata": {},
   "source": [
    "# 비큐브 멘토멘티\n",
    "\n",
    "## Week3: 조건문과 반복문, 함수\n",
    "\n",
    "## 2020년 08월 20일 안상호"
   ]
  },
  {
   "cell_type": "markdown",
   "metadata": {},
   "source": [
    "## 1. 두수 중 큰 수 출력\n",
    "\n",
    "사용자로부터 두 개의 정수를 입력받아서 둘 중에서 큰 수를 출력하는 프로그램을 작성하여 보자.\n",
    "\n",
    "> ***Q***: 프로그램의 사용법이 **출력 결과 예시**와 같을 때, `조건문`을 사용하여 첫 번째 정수가 **3** 그리고 두 번째 정수가 **4**일 경우의 결과를 출력하시오. \n",
    "\n",
    "\n",
    "### 출력 결과 예시\n",
    "\n",
    "```python\n",
    "첫 번째 정수: 2\n",
    "두 번째 정수: 5\n",
    "큰 수는 5\n",
    "```"
   ]
  },
  {
   "cell_type": "code",
   "execution_count": null,
   "metadata": {},
   "outputs": [],
   "source": [
    "## 2. 팩토리얼 계산하기\n",
    "\n",
    "팩토리얼 $n!$는 $1$부터 $n$까지의 정수를 모두 곱한 것을 의미한다. 즉, $n! = 1 \\times 2 \\times 3 \\times \\cdots \\times n$이다.\n",
    "\n",
    "> ***Q***: `반복문`을 사용하여 $10!$을 계산하시오. \n"
   ]
  },
  {
   "cell_type": "markdown",
   "metadata": {},
   "source": [
    "## 2. 팩토리얼 계산하기\n",
    "\n",
    "팩토리얼 $n!$는 $1$부터 $n$까지의 정수를 모두 곱한 것을 의미한다. 즉, $n! = 1 \\times 2 \\times 3 \\times \\cdots \\times n$이다.\n",
    "\n",
    "> ***Q***: `반복문`을 사용하여 $10!$을 계산하시오. \n"
   ]
  },
  {
   "cell_type": "code",
   "execution_count": null,
   "metadata": {},
   "outputs": [],
   "source": []
  },
  {
   "cell_type": "markdown",
   "metadata": {},
   "source": [
    "## 3. 저축 기간 구하기\n",
    "\n",
    "저축 이자를 통해 돈을 2배를 불리고 싶다. 하지만 몇년이나 있어야 저축한 금액의 두배의 금액을 얻을 수 있을지를 프로그램으로 작성해보고자 한다. \n",
    " \n",
    "\n",
    "> ***Q***: `반복문`을 사욜하여, **1000**만원을 은행에 저금하고 이율은 연 **5**%라고 가정했을 때 몇년이 지나야 원금의 두배가 넘는지 알아보시오.  \n",
    "\n",
    "### HINT\n",
    "\n",
    "1. 특정 조건이 넘을때까지 작업을 반복하기 위해서는 `while`이 주로 사용된다."
   ]
  },
  {
   "cell_type": "code",
   "execution_count": null,
   "metadata": {},
   "outputs": [],
   "source": []
  },
  {
   "cell_type": "markdown",
   "metadata": {},
   "source": [
    "## 4. 화씨 온도 변환 함수 \n",
    "\n",
    "온도를 표기하는 방법에는 화씨($^oF$)와 섭씨($^oC$)가 있다. 그런데 한국으로 이민갔다가 미국으로 돌아온  *James* 씨는 한국의 기상예보에 익숙해진 나머지 미국의 기상예보를 이해할 수가 없다. 그래서 이번에는 화씨를 섭씨로 만들어 주는 함수를 만들어보고자 한다. \n",
    "\n",
    "> ***Q***: 화씨 온도를 입력받아 섭씨 온도로 변환하는 함수 `convert_fah`을 작성하고, 그 함수를 사용하여 $50 ^oF$ 일때의 결과를 구하시오.\n",
    "\n",
    "### HINT\n",
    "\n",
    "1. 섭씨를 화씨로 변환하는 공식은 다음과 같다.\n",
    "    - $^oF = (^oC \\times 1.8) + 32$ \n",
    "2. 화씨를 섭씨로 변환하는 공식은 다음과 같다.\n",
    "    - $^oC = \\cfrac{^oF}{1.8} - 32$ "
   ]
  },
  {
   "cell_type": "code",
   "execution_count": null,
   "metadata": {},
   "outputs": [],
   "source": []
  },
  {
   "cell_type": "markdown",
   "metadata": {},
   "source": [
    "## 5. 구구단 계산기\n",
    "\n",
    "구구단은 곱하는 숫자만 달라질뿐 동일한 패턴을 가지고 있다. 간단한 구구단 계산을 하는 함수를 만들어보자.\n",
    "\n",
    "> ***Q***: 반복문을 사용하여 구구단을 연산하는 함수 `gugu`를 작성하고, 그 함수를 사용하여 **9**단의 결과를 출력하시오. \n",
    "\n",
    "\n",
    "### 출력 결과 예시\n",
    "\n",
    "```python\n",
    "\n",
    "gugu(x=2) # gugu(2)와 같다 \n",
    "\n",
    "# 2  x  1 = 2\n",
    "# 2  x  2 = 4\n",
    "# 2  x  3 = 6\n",
    "# 2  x  4 = 8\n",
    "# 2  x  5 = 10\n",
    "# 2  x  6 = 12\n",
    "# 2  x  7 = 14\n",
    "# 2  x  8 = 16\n",
    "# 2  x  9 = 18\n",
    "```\n",
    "\n"
   ]
  },
  {
   "cell_type": "code",
   "execution_count": null,
   "metadata": {},
   "outputs": [],
   "source": []
  }
 ],
 "metadata": {
  "kernelspec": {
   "display_name": "Python 3",
   "language": "python",
   "name": "python3"
  },
  "language_info": {
   "codemirror_mode": {
    "name": "ipython",
    "version": 3
   },
   "file_extension": ".py",
   "mimetype": "text/x-python",
   "name": "python",
   "nbconvert_exporter": "python",
   "pygments_lexer": "ipython3",
   "version": "3.8.2"
  }
 },
 "nbformat": 4,
 "nbformat_minor": 4
}
