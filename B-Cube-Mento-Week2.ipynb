{
 "cells": [
  {
   "cell_type": "markdown",
   "metadata": {},
   "source": [
    "# 비큐브 멘토멘티\n",
    "\n",
    "## Week2: 기본 자료형과 자료구조\n",
    "\n",
    "## 2020년 08월 15일 안상호"
   ]
  },
  {
   "cell_type": "markdown",
   "metadata": {},
   "source": [
    "## 1. 복리의 마법\n",
    "\n",
    "1626년 아메리카 인디언들이 뉴욕의 맨하탄섬을 단돈 24달러에 탐험가 *Peter Minuit*에게 팔았고, 382년 정도 경과한 뒤의 맨하탄의 가치는 약 600억 달러라고 한다.\n",
    "하지만 만약 인디언이 24달러를 은행의 정기예금에 입금해두었다면 어떻게 되었을까? 복리로 원리금을 계산하는 식은 다음과 같다.  \n",
    "\n",
    "$$a \\times (1 + r)^t$$\n",
    "(투자원금 $a$, 이율: $r$, 투자기간: $t$) \n",
    "> **Q**: 예금 금리는 복리로 **7**%라고 할때, **382**년이 지난후의 원리금은 얼마인지 구하시오."
   ]
  },
  {
   "cell_type": "code",
   "execution_count": null,
   "metadata": {},
   "outputs": [],
   "source": []
  },
  {
   "cell_type": "markdown",
   "metadata": {},
   "source": [
    "## 2. 화씨 온도 변환기 프로그램\n",
    "\n",
    "온도를 표기하는 방법에는 화씨($^oF$)와 섭씨($^oC$)가 있다. 그런데 미국에서 한국으로 이민온 *James* 씨는 한국의 기상예보를 보고 날씨가 대략 어떤지 파악할 수 없어 어려움을 겪고 있다고 한다. 섭씨를 화씨로 변환하는 공식은 다음과 같을 때,\n",
    "\n",
    "$$^oF = (^oC \\times 1.8) + 32$$\n",
    "\n",
    "> ***Q***: **출력 결과 예**시와 같이 섭씨온도를 물어보고 화씨온도를 알려주는 프로그램을 사용하여, 오늘 기상예보에서 내일의 평균기온이 20 $^oC$ 라고 하였을 때, *James* 씨에게 몇 $^oF$라고 알려주어야 하는지 구하시오.\n",
    " \n",
    "\n",
    "\n",
    "### 출력 결과 예시\n",
    "\n",
    "```{python}\n",
    "변환하고 싶은 섭씨온도를 입력하세요: 32\n",
    "화씨온도: 89.6\n",
    "```\n",
    "\n",
    "### HINT\n",
    "\n",
    "1. `input(\"메시지 텍스트\")`을 통해서 사용자의 입력을 받으면 항상 문자열이다. 따라서 수치연산을 할 수 없으므로 다음의 예시를 참고하여 해결하십시오(`##`은 출력결과)\n",
    "    ```python\n",
    "    num = input(\"Write Number \")\n",
    "    ## Write Number 20\n",
    "\n",
    "    num + 20\n",
    "    ## Error\n",
    "    \n",
    "    int(num) + 20\n",
    "    ## 40\n",
    "    ```\n",
    "2. 계산 결과를 다시 문자열로 바꾸기 위해서는 `str`을 사용한다(`##`은 출력결과)\n",
    "    ```python\n",
    "    num = 20\n",
    "    print(\"Your Num: \" + str(num))\n",
    "    ## Your Num: 20\n",
    " \n",
    "    ```\n"
   ]
  },
  {
   "cell_type": "code",
   "execution_count": null,
   "metadata": {},
   "outputs": [],
   "source": []
  },
  {
   "cell_type": "markdown",
   "metadata": {},
   "source": [
    "## 3. 문자열 구분값 바꾸기\n",
    "\n",
    "\n",
    "특정 기호로 구분된 다음과 같은 문자열을 다른 기호로 구분짓도록 바꾸고 싶다.\n",
    "\n",
    "> ***Q***: 문자열 `a:b:c:d`를 `a,b,c,d` 로 바꾸시오.\n",
    "\n",
    "\n",
    "### 출력결과 예시\n",
    "\n",
    "```python\n",
    "sep_str = \"a:b:c:d\"\n",
    "\n",
    "# Something Code\n",
    "\n",
    "## a,b,c,d\n",
    "```\n",
    "\n",
    "### HINT\n",
    "1. `split()` 함수는 문자열을 해당 구분자를 기분으로 나눠준다.(`##`은 출력결과 )\n",
    "    ```python\n",
    "    \"a,b,c\".split(',')\n",
    "    ## ['a', 'b', 'c']\n",
    "    ```\n",
    "\n",
    "\n",
    "2.  `join`은 리스트의 요소들을 해당 문자를 기준으로 합쳐준다. \n",
    "    ```python\n",
    "\n",
    "    test = [\"a\", \"b\", \"c\"]\n",
    "\n",
    "    \"#\".join(test)\n",
    "    ## a#b#c\n",
    "    ```\n"
   ]
  },
  {
   "cell_type": "code",
   "execution_count": null,
   "metadata": {},
   "outputs": [],
   "source": []
  },
  {
   "cell_type": "markdown",
   "metadata": {},
   "source": [
    "## 4. 주민등록번호로 성별 찾기\n",
    "\n",
    "주민등록번호 뒷자리의 맨 첫 번째 숫자는 성별을 나타내는데, 남자는 1로 시작하고 여자는 2로 시작한다고 한다. \n",
    "다음과 같은 주민등록번호가 주어졌다.\n",
    "\n",
    "```python\n",
    "pin = \"891120-1234567\"\n",
    "```\n",
    "\n",
    "> ***Q***: 성별을 나타내는 숫자를 `gender` 변수에 할당하고 `print`로 결과를 출력하시오.\n",
    "\n",
    "\n",
    "\n",
    "### HINT\n",
    "\n",
    "`split()` 함수를 사용하여 리스트로 만든 뒤 리스트에서 값을 추출하여라\n",
    "\n"
   ]
  },
  {
   "cell_type": "code",
   "execution_count": null,
   "metadata": {},
   "outputs": [],
   "source": []
  }
 ],
 "metadata": {
  "kernelspec": {
   "display_name": "Python 3",
   "language": "python",
   "name": "python3"
  },
  "language_info": {
   "codemirror_mode": {
    "name": "ipython",
    "version": 3
   },
   "file_extension": ".py",
   "mimetype": "text/x-python",
   "name": "python",
   "nbconvert_exporter": "python",
   "pygments_lexer": "ipython3",
   "version": "3.8.2"
  }
 },
 "nbformat": 4,
 "nbformat_minor": 4
}
